{
 "cells": [
  {
   "cell_type": "markdown",
   "metadata": {},
   "source": [
    "# Алгоритмы интеллектуальной обработки больших объемов данных\n",
    "## Домашнее задание №3 - Дерево решений\n"
   ]
  },
  {
   "cell_type": "markdown",
   "metadata": {},
   "source": [
    "**Общая информация**\n",
    "\n",
    "**Срок сдачи:** до 27 ноября 2017, 23:59   \n",
    "**Штраф за опоздание:** -2 балла после 23:59  4 декабря, -4 балла после 23:59 11 декабря, -6 баллов после 23:59 18 декабря\n",
    "\n",
    "При отправлении ДЗ указывайте фамилию в названии файла   \n",
    "\n",
    "\n",
    "Присылать ДЗ необходимо в виде ссылки на свой github репозиторий в slack @alkhamush\n",
    "Необходимо в slack создать таск в приватный чат:   \n",
    "/todo Фамилия Имя *ссылка на гитхаб* @alkhamush   \n",
    "Пример:   \n",
    "/todo Ксения Стройкова https://github.com/stroykova/spheremailru/stroykova_hw1.ipynb @alkhamush   \n",
    "\n",
    "Используйте данный Ipython Notebook при оформлении домашнего задания."
   ]
  },
  {
   "cell_type": "markdown",
   "metadata": {},
   "source": [
    "**Разбаловка:**   \n",
    "За задание можно получить 10 баллов. Для этого нужно следующее:\n",
    "1. Там, где написано \"Ваш код\", нужно реализовать метод или часть метода\n",
    "2. Там, где написано \"Что делает этот блок кода?\", нужно разобраться в блоке кода и в комментарии написать, что он делает    \n",
    "3. Добиться, чтобы в пункте \"Проверка скорости работы\" Ваша реализация работала чуть быстрее, чем у дерева из sklearn\n",
    "4. Добиться, чтобы в пункте \"Проверка качества работы\" Ваша реализация работала качественнее, чем у дерева из sklearn"
   ]
  },
  {
   "cell_type": "code",
   "execution_count": 1,
   "metadata": {
    "collapsed": true
   },
   "outputs": [],
   "source": [
    "from time import time\n",
    "\n",
    "import matplotlib.pyplot as plt\n",
    "import numpy as np\n",
    "import pandas as pd\n",
    "\n",
    "from scipy import optimize\n",
    "from sklearn.metrics import accuracy_score\n",
    "from sklearn.model_selection import KFold\n",
    "from sklearn.tree import DecisionTreeClassifier\n",
    "\n",
    "%matplotlib inline"
   ]
  },
  {
   "cell_type": "code",
   "execution_count": 2,
   "metadata": {
    "collapsed": true
   },
   "outputs": [],
   "source": [
    "class MyDecisionTreeClassifier:\n",
    "    NON_LEAF_TYPE = 0\n",
    "    LEAF_TYPE = 1\n",
    "\n",
    "    # min_samples_split : Минимальное количество выборок, необходимое для разделения внутреннего узла.\n",
    "\n",
    "    # max_depth : Максимальная глубина дерева. Если \"None\", то то узлы расширяются до тех пор,\n",
    "    # пока все листья не станут чистыми, или пока все листья не будут содержать меньше, чем min_samples_split элементов.\n",
    "\n",
    "    # sufficient_share : \"достаточная доля\": если, например, она равна 0.7, и там больше 70% объектов принадлежат\n",
    "    # определенному кластеру, то считаем, что этот лист и возвращает данный кластер.\n",
    "\n",
    "    # max_features : Количество признаков, которые нужно учитывать для лучшего разделения.\n",
    "\n",
    "    # criterion : необходим для оценки качества разбиения.\n",
    "\n",
    "    def __init__(self, min_samples_split=2, max_depth=None, sufficient_share=1.0, criterion='gini', max_features=None):\n",
    "        \n",
    "        self.tree = dict()\n",
    "        self.min_samples_split = min_samples_split\n",
    "        self.max_depth = max_depth\n",
    "        self.sufficient_share = sufficient_share\n",
    "        self.num_class = -1\n",
    "        \n",
    "        if criterion == 'gini':\n",
    "            self.G_function = self.__gini\n",
    "        elif criterion == 'entropy':\n",
    "            self.G_function = self.__entropy\n",
    "        elif criterion == 'misclass':\n",
    "            self.G_function = self.__misclass\n",
    "        else:\n",
    "            print 'invalid criterion name'\n",
    "            # Искусственная генерация сообщения об ошибке.\n",
    "            raise\n",
    "\n",
    "        if max_features == 'sqrt':\n",
    "            self.get_feature_ids = self.__get_feature_ids_sqrt\n",
    "        elif max_features == 'log2':\n",
    "            self.get_feature_ids = self.__get_feature_ids_log2\n",
    "        elif max_features == None:\n",
    "            self.get_feature_ids = self.__get_feature_ids_N\n",
    "        else:\n",
    "            print 'invalid max_features name'\n",
    "            raise\n",
    "\n",
    "            \n",
    "    def __gini(self, l_c, l_s, r_c, r_s):\n",
    "        \n",
    "        # \".astype\" casts to a specified type.\n",
    "        l_s = l_s.astype('float')\n",
    "        r_s = r_s.astype('float')\n",
    "        \n",
    "        return 1 - np.sum( (l_c ** 2 / l_s) + (r_c ** 2 / r_s), axis=1)\n",
    "    \n",
    "    \n",
    "    def __entropy(self, l_c, l_s, r_c, r_s):\n",
    "\n",
    "        eps = 1e-8\n",
    "        return -np.sum( (l_c * np.log(l_c / l_s + eps)) + (r_c * np.log(r_c / r_s + eps)), axis=1 ).reshape(-1, 1) / (l_s + r_s)\n",
    "        \n",
    "      \n",
    "    def __misclass(self, l_c, l_s, r_c, r_s):\n",
    "        \n",
    "        return 1 - (l_c.max(axis=1) + r_c.max(axis=1)) / (l_s + r_s).ravel()\n",
    "      \n",
    "\n",
    "    def __get_feature_ids_sqrt(self, n_feature):\n",
    "        \n",
    "        feature_ids = range(n_feature)\n",
    "        np.random.shuffle(feature_ids)\n",
    "        \n",
    "        return feature_ids[:int(np.sqrt(n_feature))]\n",
    "    \n",
    "        \n",
    "    def __get_feature_ids_log2(self, n_feature):\n",
    "        \n",
    "        feature_ids = range(n_feature)\n",
    "        np.random.shuffle(feature_ids)\n",
    "        \n",
    "        return feature_ids[:int(np.log2(n_feature))]\n",
    "    \n",
    "    \n",
    "    def __get_feature_ids_N(self, n_feature):\n",
    "        \n",
    "        return range(n_feature)\n",
    "    \n",
    "    # Сортировка векторов x и y по значениям x.\n",
    "    def __sort_samples(self, x, y):\n",
    "        \n",
    "        # \".argsort\" returns the indices that would sort an array.\n",
    "        sorted_idx = x.argsort()\n",
    "        \n",
    "        return x[sorted_idx], y[sorted_idx]\n",
    "    \n",
    "    # Разделение выборки на две по величине threshold для feature_id.\n",
    "    def __div_samples(self, x, y, feature_id, threshold):\n",
    "        \n",
    "        left_mask = x[:, feature_id] > threshold\n",
    "        right_mask = ~left_mask\n",
    "        \n",
    "        return x[left_mask], x[right_mask], y[left_mask], y[right_mask]\n",
    "\n",
    "    def __find_threshold(self, x, y):\n",
    "        \n",
    "        # Получаем x и y, отсортированные по возрастанию значений выбранного признака x.\n",
    "        sorted_x, sorted_y = self.__sort_samples(x, y)\n",
    "        \n",
    "        # Определение количества уникальных классов в выборке (векторе y), которую передали на вход.\n",
    "        class_number = np.unique(y).shape[0]\n",
    "                \n",
    "        # В отсортированном массиве отступаем от его концов так, чтобы далее проверить, больше ли в векторе элементов,\n",
    "        # чем допустимое минимальное значение min_samples_split. \n",
    "        splitted_sorted_y = sorted_y[self.min_samples_split:-self.min_samples_split]\n",
    "        \n",
    "        # Создание вектора с аргументами, в которых меняется значение кластера с одного на другой.\n",
    "        # \"np.where\" returns elements, either from x or y, depending on condition.\n",
    "        r_border_ids = np.where(splitted_sorted_y[:-1] != splitted_sorted_y[1:])[0] + (self.min_samples_split + 1)\n",
    "        \n",
    "        # Если все классы в splitted_sorted_y одинаковые, то разбиение не требуется.\n",
    "        if len(r_border_ids) == 0:\n",
    "            \n",
    "            return float('+inf'), None\n",
    "        \n",
    "        # Количество элементов в группах подряд идущих элементов из одного класса (кроме последнего)    \n",
    "        eq_el_count = r_border_ids - np.append([self.min_samples_split], r_border_ids[:-1])\n",
    "        \n",
    "        # Сначала создается матрица в которую для каждой строки (т.е. разбиения) записывается длина вхождений того или иного класса. \n",
    "\n",
    "        # Находит матрицу class_increments: строки - номера концов из r_border_ids, столбцы - классы.\n",
    "        # В [i, j] ячейке записано число элементов класса j, которые перейдут в левую часть разбиения,\n",
    "        # когда мы повысим порог так, чтобы взять в эту часть ещё одну i-ю группу. \n",
    "        \n",
    "        # [i, j] = n, если i-й отрезок - имеет n элементов номера j.\n",
    "        one_hot_code = np.zeros((r_border_ids.shape[0], class_number))\n",
    "        one_hot_code[np.arange(r_border_ids.shape[0]), sorted_y[r_border_ids - 1]] = 1\n",
    "        class_increments = one_hot_code * eq_el_count.reshape(-1, 1)\n",
    "        # Добавляем, что отрезали в splitted_sorted_y.\n",
    "        class_increments[0] = class_increments[0] + np.bincount(y[:self.min_samples_split], minlength=class_number)\n",
    "        \n",
    "        # Определение количества элементов j-го класса, оставшихся при разбиении в левой и правой ветвях.\n",
    "        # \"np.cumsum\" returns the cumulative sum of the elements along a given axis.\n",
    "        l_class_count = np.cumsum(class_increments, axis=0)\n",
    "        \n",
    "        # Аналогично для правого класса вычитание из общего количества элементов j-го класса.\n",
    "        # \"np.bincount\" counts number of occurrences of each value in array of non-negative ints.\n",
    "        r_class_count = np.bincount(y) - l_class_count\n",
    "        \n",
    "        # В строках матриц l_sizes и r_sizes записывается число элементов левого и правого класса при разбиении.\n",
    "        l_sizes = r_border_ids.reshape(l_class_count.shape[0], 1)\n",
    "        r_sizes = sorted_y.shape[0] - l_sizes\n",
    "\n",
    "        # Получение вектора меры неопределённости (impurity) для вероятных разбиений и выбор разбиения с минимальной мерой.\n",
    "        gs = self.G_function(l_class_count, l_sizes, r_class_count, r_sizes)\n",
    "        idx = np.argmin(gs)\n",
    "    \n",
    "        # Номер элемента, с которого начинается правый класс.\n",
    "        left_el_id = l_sizes[idx][0]\n",
    "        # Для полученного индекса оптимального разбиения возврат меры неопределённости и значения порога.\n",
    "        return gs[idx], (sorted_x[left_el_id-1] + sorted_x[left_el_id]) / 2.0\n",
    "    \n",
    "    # Добавление листа.\n",
    "    def __leaf_to_tree(self, y, node_id):\n",
    "        distr = np.bincount(y, minlength=self.num_class)\n",
    "        self.tree[node_id] = (self.LEAF_TYPE, distr.argmax(), distr / float(distr.sum()))\n",
    "\n",
    "    \n",
    "    def __fit_node(self, x, y, node_id, depth, pred_f=-1):\n",
    "        \n",
    "        if x.shape[0] <= 2 * self.min_samples_split + 1 or depth == self.max_depth:\n",
    "            \n",
    "            self.__leaf_to_tree(y, node_id)\n",
    "            return\n",
    "        \n",
    "        if np.bincount(y).max() / float(y.shape[0]) > self.sufficient_share:\n",
    "            \n",
    "            self.__leaf_to_tree(y, node_id)\n",
    "            return\n",
    "        \n",
    "        min_gs = float('+inf')\n",
    "        optimal_feature_id = -1\n",
    "        optimal_feature_threshold = 0\n",
    "        \n",
    "        # Рассматривается также ситуация, что в функцию __find_threshold можно передавать только такие y, в которых \n",
    "        # есть все классы от 0 до какого-то class_number.\n",
    "        y_temp = np.where(y.reshape(-1, 1) == np.unique(y))[1]\n",
    "\n",
    "        for feature in self.get_feature_ids(x.shape[1]):\n",
    "            gs, threshold = self.__find_threshold(x[:, feature], y_temp)\n",
    "            \n",
    "            if gs < min_gs:\n",
    "            \n",
    "                min_gs = gs\n",
    "                optimal_feature_id = feature\n",
    "                optimal_feature_threshold = threshold\n",
    "        \n",
    "        if optimal_feature_id == -1:\n",
    "            \n",
    "            self.__leaf_to_tree(y, node_id)\n",
    "            return\n",
    "          \n",
    "        x_l, x_r, y_l, y_r = self.__div_samples(x, y, optimal_feature_id, optimal_feature_threshold)\n",
    "        \n",
    "        if y_l.size == 0 or y_r.size == 0:\n",
    "            \n",
    "            self.__leaf_to_tree(y, node_id)\n",
    "            return\n",
    "        \n",
    "        self.tree[node_id] = (self.NON_LEAF_TYPE, optimal_feature_id, optimal_feature_threshold)\n",
    "        self.__fit_node(x_l, y_l, 2 * node_id + 1, depth + 1)\n",
    "        self.__fit_node(x_r, y_r, 2 * node_id + 2, depth + 1)\n",
    "        \n",
    "        \n",
    "    def fit(self, x, y):\n",
    "        \n",
    "        self.num_class = np.unique(y).size\n",
    "        self.__fit_node(x, y, 0, 0) \n",
    "\n",
    "        \n",
    "    def __predict_class(self, x, node_id):\n",
    "        \n",
    "        node = self.tree[node_id]\n",
    "        \n",
    "        if node[0] == self.__class__.NON_LEAF_TYPE:\n",
    "            _, feature_id, threshold = node\n",
    "            \n",
    "            if x[feature_id] > threshold:\n",
    "                return self.__predict_class(x, 2 * node_id + 1)\n",
    "            else:\n",
    "                return self.__predict_class(x, 2 * node_id + 2)\n",
    "        \n",
    "        else:\n",
    "            return node[1]\n",
    "\n",
    "        \n",
    "    def __predict_probs(self, x, node_id):\n",
    "        \n",
    "        node = self.tree[node_id]\n",
    "        \n",
    "        if node[0] == self.__class__.NON_LEAF_TYPE:\n",
    "            _, feature_id, threshold = node\n",
    "            if x[feature_id] > threshold:\n",
    "                return self.__predict_probs(x, 2 * node_id + 1)\n",
    "            else:\n",
    "                return self.__predict_probs(x, 2 * node_id + 2)\n",
    "        else:\n",
    "            return node[2]\n",
    "        \n",
    "        \n",
    "    def predict(self, X):\n",
    "        \n",
    "        return np.array([self.__predict_class(x, 0) for x in X])\n",
    "    \n",
    "    \n",
    "    def predict_probs(self, X):\n",
    "        \n",
    "        return np.array([self.__predict_probs(x, 0) for x in X])\n",
    "\n",
    "    \n",
    "    def fit_predict(self, x_train, y_train, predicted_x):\n",
    "        \n",
    "        self.fit(x_train, y_train)\n",
    "        return self.predict(predicted_x)\n",
    "    "
   ]
  },
  {
   "cell_type": "code",
   "execution_count": 3,
   "metadata": {},
   "outputs": [
    {
     "data": {
      "text/html": [
       "<div>\n",
       "<style>\n",
       "    .dataframe thead tr:only-child th {\n",
       "        text-align: right;\n",
       "    }\n",
       "\n",
       "    .dataframe thead th {\n",
       "        text-align: left;\n",
       "    }\n",
       "\n",
       "    .dataframe tbody tr th {\n",
       "        vertical-align: top;\n",
       "    }\n",
       "</style>\n",
       "<table border=\"1\" class=\"dataframe\">\n",
       "  <thead>\n",
       "    <tr style=\"text-align: right;\">\n",
       "      <th></th>\n",
       "      <th>SeriousDlqin2yrs</th>\n",
       "      <th>RevolvingUtilizationOfUnsecuredLines</th>\n",
       "      <th>age</th>\n",
       "      <th>NumberOfTime30-59DaysPastDueNotWorse</th>\n",
       "      <th>DebtRatio</th>\n",
       "      <th>MonthlyIncome</th>\n",
       "      <th>NumberOfOpenCreditLinesAndLoans</th>\n",
       "      <th>NumberOfTimes90DaysLate</th>\n",
       "      <th>NumberRealEstateLoansOrLines</th>\n",
       "      <th>NumberOfTime60-89DaysPastDueNotWorse</th>\n",
       "      <th>NumberOfDependents</th>\n",
       "    </tr>\n",
       "  </thead>\n",
       "  <tbody>\n",
       "    <tr>\n",
       "      <th>1</th>\n",
       "      <td>1</td>\n",
       "      <td>0.766127</td>\n",
       "      <td>45</td>\n",
       "      <td>2</td>\n",
       "      <td>0.802982</td>\n",
       "      <td>9120.0</td>\n",
       "      <td>13</td>\n",
       "      <td>0</td>\n",
       "      <td>6</td>\n",
       "      <td>0</td>\n",
       "      <td>2.0</td>\n",
       "    </tr>\n",
       "    <tr>\n",
       "      <th>2</th>\n",
       "      <td>0</td>\n",
       "      <td>0.957151</td>\n",
       "      <td>40</td>\n",
       "      <td>0</td>\n",
       "      <td>0.121876</td>\n",
       "      <td>2600.0</td>\n",
       "      <td>4</td>\n",
       "      <td>0</td>\n",
       "      <td>0</td>\n",
       "      <td>0</td>\n",
       "      <td>1.0</td>\n",
       "    </tr>\n",
       "    <tr>\n",
       "      <th>3</th>\n",
       "      <td>0</td>\n",
       "      <td>0.658180</td>\n",
       "      <td>38</td>\n",
       "      <td>1</td>\n",
       "      <td>0.085113</td>\n",
       "      <td>3042.0</td>\n",
       "      <td>2</td>\n",
       "      <td>1</td>\n",
       "      <td>0</td>\n",
       "      <td>0</td>\n",
       "      <td>0.0</td>\n",
       "    </tr>\n",
       "    <tr>\n",
       "      <th>4</th>\n",
       "      <td>0</td>\n",
       "      <td>0.233810</td>\n",
       "      <td>30</td>\n",
       "      <td>0</td>\n",
       "      <td>0.036050</td>\n",
       "      <td>3300.0</td>\n",
       "      <td>5</td>\n",
       "      <td>0</td>\n",
       "      <td>0</td>\n",
       "      <td>0</td>\n",
       "      <td>0.0</td>\n",
       "    </tr>\n",
       "    <tr>\n",
       "      <th>5</th>\n",
       "      <td>0</td>\n",
       "      <td>0.907239</td>\n",
       "      <td>49</td>\n",
       "      <td>1</td>\n",
       "      <td>0.024926</td>\n",
       "      <td>63588.0</td>\n",
       "      <td>7</td>\n",
       "      <td>0</td>\n",
       "      <td>1</td>\n",
       "      <td>0</td>\n",
       "      <td>0.0</td>\n",
       "    </tr>\n",
       "  </tbody>\n",
       "</table>\n",
       "</div>"
      ],
      "text/plain": [
       "   SeriousDlqin2yrs  RevolvingUtilizationOfUnsecuredLines  age  \\\n",
       "1                 1                              0.766127   45   \n",
       "2                 0                              0.957151   40   \n",
       "3                 0                              0.658180   38   \n",
       "4                 0                              0.233810   30   \n",
       "5                 0                              0.907239   49   \n",
       "\n",
       "   NumberOfTime30-59DaysPastDueNotWorse  DebtRatio  MonthlyIncome  \\\n",
       "1                                     2   0.802982         9120.0   \n",
       "2                                     0   0.121876         2600.0   \n",
       "3                                     1   0.085113         3042.0   \n",
       "4                                     0   0.036050         3300.0   \n",
       "5                                     1   0.024926        63588.0   \n",
       "\n",
       "   NumberOfOpenCreditLinesAndLoans  NumberOfTimes90DaysLate  \\\n",
       "1                               13                        0   \n",
       "2                                4                        0   \n",
       "3                                2                        1   \n",
       "4                                5                        0   \n",
       "5                                7                        0   \n",
       "\n",
       "   NumberRealEstateLoansOrLines  NumberOfTime60-89DaysPastDueNotWorse  \\\n",
       "1                             6                                     0   \n",
       "2                             0                                     0   \n",
       "3                             0                                     0   \n",
       "4                             0                                     0   \n",
       "5                             1                                     0   \n",
       "\n",
       "   NumberOfDependents  \n",
       "1                 2.0  \n",
       "2                 1.0  \n",
       "3                 0.0  \n",
       "4                 0.0  \n",
       "5                 0.0  "
      ]
     },
     "execution_count": 3,
     "metadata": {},
     "output_type": "execute_result"
    }
   ],
   "source": [
    "df = pd.read_csv(\"cs-training.csv\").dropna()\n",
    "df.head()\n"
   ]
  },
  {
   "cell_type": "code",
   "execution_count": 4,
   "metadata": {
    "collapsed": true
   },
   "outputs": [],
   "source": [
    "x = df.as_matrix(columns=df.columns[1:])\n",
    "y = df.as_matrix(columns=df.columns[:1])\n",
    "y = y.reshape(y.shape[0])\n"
   ]
  },
  {
   "cell_type": "code",
   "execution_count": 5,
   "metadata": {
    "collapsed": true
   },
   "outputs": [],
   "source": [
    "my_clf = MyDecisionTreeClassifier(min_samples_split=2)\n",
    "clf = DecisionTreeClassifier(min_samples_split=2)\n"
   ]
  },
  {
   "cell_type": "markdown",
   "metadata": {},
   "source": [
    "## Проверка скорости работы"
   ]
  },
  {
   "cell_type": "code",
   "execution_count": 6,
   "metadata": {
    "scrolled": true
   },
   "outputs": [
    {
     "name": "stdout",
     "output_type": "stream",
     "text": [
      "1.19299983978\n",
      "3.17199993134\n"
     ]
    }
   ],
   "source": [
    "t1 = time()\n",
    "my_clf.fit(x, y)\n",
    "t2 = time()\n",
    "print(t2 - t1)\n",
    "\n",
    "t1 = time()\n",
    "clf.fit(x, y)\n",
    "t2 = time()\n",
    "print(t2 - t1)\n"
   ]
  },
  {
   "cell_type": "markdown",
   "metadata": {},
   "source": [
    "## Проверка качества работы"
   ]
  },
  {
   "cell_type": "code",
   "execution_count": 10,
   "metadata": {
    "collapsed": true
   },
   "outputs": [],
   "source": [
    "from sklearn.datasets import make_blobs\n",
    "\n",
    "X, y = make_blobs(n_samples=2000, n_features=2, centers=3, cluster_std=1, \n",
    "           center_box=(-10.0, 10.0), shuffle=False, random_state=6)\n",
    "\n",
    "idx = np.arange(2000)\n",
    "np.random.shuffle(idx)\n",
    "X = X[idx]\n",
    "y = y[idx]\n",
    "\n",
    "X_train = X[1000:]\n",
    "y_train = y[1000:]\n",
    "\n",
    "X_test = X[:1000]\n",
    "y_test = y[:1000]\n"
   ]
  },
  {
   "cell_type": "code",
   "execution_count": 11,
   "metadata": {},
   "outputs": [
    {
     "data": {
      "image/png": "[encoded data removed]",
      "text/plain": [
       "<matplotlib.figure.Figure at 0xe00f940>"
      ]
     },
     "metadata": {},
     "output_type": "display_data"
    },
    {
     "name": "stdout",
     "output_type": "stream",
     "text": [
      "Accuracy:  0.998\n"
     ]
    }
   ],
   "source": [
    "my_clf = MyDecisionTreeClassifier(criterion='gini')\n",
    "my_clf.fit(X_train, y_train)\n",
    "y_predict = my_clf.predict(X_test)\n",
    "\n",
    "plt.scatter(X_test[:, 0], X_test[:, 1], c=y_predict)\n",
    "plt.show()\n",
    "\n",
    "print 'Accuracy: ', accuracy_score(y_test, y_predict)\n"
   ]
  },
  {
   "cell_type": "code",
   "execution_count": 12,
   "metadata": {},
   "outputs": [
    {
     "data": {
      "image/png": "[encoded data removed]",
      "text/plain": [
       "<matplotlib.figure.Figure at 0xdf187b8>"
      ]
     },
     "metadata": {},
     "output_type": "display_data"
    },
    {
     "name": "stdout",
     "output_type": "stream",
     "text": [
      "Accuracy:  0.998\n"
     ]
    }
   ],
   "source": [
    "clf = DecisionTreeClassifier()\n",
    "clf.fit(X_train, y_train)\n",
    "y_predict = clf.predict(X_test)\n",
    "\n",
    "plt.scatter(X_test[:, 0], X_test[:, 1], c=y_predict)\n",
    "plt.show()\n",
    "\n",
    "print 'Accuracy: ', accuracy_score(y_test, y_predict)\n"
   ]
  },
  {
   "cell_type": "code",
   "execution_count": null,
   "metadata": {
    "collapsed": true
   },
   "outputs": [],
   "source": []
  },
  {
   "cell_type": "code",
   "execution_count": 7,
   "metadata": {
    "collapsed": true
   },
   "outputs": [],
   "source": [
    "gkf = KFold(n_splits=5, shuffle=True)\n"
   ]
  },
  {
   "cell_type": "code",
   "execution_count": 8,
   "metadata": {},
   "outputs": [
    {
     "name": "stdout",
     "output_type": "stream",
     "text": [
      "0.932734680303\n",
      "0.933981874117\n",
      "0.931986364014\n",
      "0.932069510269\n",
      "0.930029518147\n"
     ]
    }
   ],
   "source": [
    "for train, test in gkf.split(x, y):\n",
    "    \n",
    "    X_train, y_train = x[train], y[train]\n",
    "    X_test, y_test = x[test], y[test]\n",
    "    my_clf.fit(X_train, y_train)\n",
    "    \n",
    "    print (accuracy_score(y_pred=my_clf.predict(X_test), y_true=y_test))\n",
    "    "
   ]
  },
  {
   "cell_type": "code",
   "execution_count": 9,
   "metadata": {},
   "outputs": [
    {
     "name": "stdout",
     "output_type": "stream",
     "text": [
      "0.891369418808\n",
      "0.891161553172\n",
      "0.893240209529\n",
      "0.891286272553\n",
      "0.894233567538\n"
     ]
    }
   ],
   "source": [
    "for train, test in gkf.split(x, y):\n",
    "    \n",
    "    X_train, y_train = x[train], y[train]\n",
    "    X_test, y_test = x[test], y[test]\n",
    "    clf.fit(X_train, y_train)\n",
    "    \n",
    "    print (accuracy_score(y_pred=clf.predict(X_test), y_true=y_test))\n",
    "    "
   ]
  },
  {
   "cell_type": "code",
   "execution_count": null,
   "metadata": {
    "collapsed": true
   },
   "outputs": [],
   "source": []
  },
  {
   "cell_type": "code",
   "execution_count": null,
   "metadata": {
    "collapsed": true
   },
   "outputs": [],
   "source": []
  }
 ],
 "metadata": {
  "kernelspec": {
   "display_name": "Python 2",
   "language": "python",
   "name": "python2"
  },
  "language_info": {
   "codemirror_mode": {
    "name": "ipython",
    "version": 2
   },
   "file_extension": ".py",
   "mimetype": "text/x-python",
   "name": "python",
   "nbconvert_exporter": "python",
   "pygments_lexer": "ipython2",
   "version": "2.7.13"
  }
 },
 "nbformat": 4,
 "nbformat_minor": 2
}
